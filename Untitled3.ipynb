{
 "cells": [
  {
   "cell_type": "code",
   "execution_count": 2,
   "id": "8cd9a8cb-3837-455e-9b6f-69449cf6260e",
   "metadata": {},
   "outputs": [],
   "source": [
    "import pandas as pd\n",
    "import numpy as np\n",
    "import matplotlib.pyplot as plt\n",
    "import seaborn as sns\n",
    "import random"
   ]
  },
  {
   "cell_type": "code",
   "execution_count": 4,
   "id": "3ddbabb5-c08b-465b-9d78-3400cffa43db",
   "metadata": {},
   "outputs": [],
   "source": [
    "categories = ['Food', 'Travel', 'Fashion', 'Fitness', 'Music', 'Culture', 'Family', 'Health']\n"
   ]
  },
  {
   "cell_type": "code",
   "execution_count": 6,
   "id": "8fc3831f-32fd-4e29-bb37-a689011c0f10",
   "metadata": {},
   "outputs": [],
   "source": [
    "data = {\n",
    "    'Date': pd.date_range('2021-01-01', periods=500),\n",
    "    'Category': [random.choice(categories) for _ in range(500)],\n",
    "    'Likes': np.random.randint(0, 10000, size=500)\n",
    "}"
   ]
  },
  {
   "cell_type": "code",
   "execution_count": 8,
   "id": "dca59f27-6ba2-4586-acc4-300901b3d2ec",
   "metadata": {},
   "outputs": [],
   "source": [
    "df = pd.DataFrame(data)"
   ]
  },
  {
   "cell_type": "code",
   "execution_count": 10,
   "id": "77aa9d06-13cd-47f1-98de-7fadc6fdc5a3",
   "metadata": {},
   "outputs": [
    {
     "name": "stdout",
     "output_type": "stream",
     "text": [
      "DataFrame Head:\n",
      "        Date Category  Likes\n",
      "0 2021-01-01  Fashion   5103\n",
      "1 2021-01-02    Music   5770\n",
      "2 2021-01-03   Family   3844\n",
      "3 2021-01-04   Family   9932\n",
      "4 2021-01-05   Travel   4741\n"
     ]
    }
   ],
   "source": [
    "print(\"DataFrame Head:\")\n",
    "print(df.head())"
   ]
  },
  {
   "cell_type": "code",
   "execution_count": 12,
   "id": "3c0f65d2-469e-48f5-8612-3fd39240fb22",
   "metadata": {},
   "outputs": [
    {
     "name": "stdout",
     "output_type": "stream",
     "text": [
      "\n",
      "DataFrame Info:\n",
      "<class 'pandas.core.frame.DataFrame'>\n",
      "RangeIndex: 500 entries, 0 to 499\n",
      "Data columns (total 3 columns):\n",
      " #   Column    Non-Null Count  Dtype         \n",
      "---  ------    --------------  -----         \n",
      " 0   Date      500 non-null    datetime64[ns]\n",
      " 1   Category  500 non-null    object        \n",
      " 2   Likes     500 non-null    int32         \n",
      "dtypes: datetime64[ns](1), int32(1), object(1)\n",
      "memory usage: 9.9+ KB\n",
      "None\n"
     ]
    }
   ],
   "source": [
    "print(\"\\nDataFrame Info:\")\n",
    "print(df.info())"
   ]
  },
  {
   "cell_type": "code",
   "execution_count": 14,
   "id": "f32b4164-4fe1-4a76-980e-7b56f16272d8",
   "metadata": {},
   "outputs": [
    {
     "name": "stdout",
     "output_type": "stream",
     "text": [
      "\n",
      "DataFrame Description:\n",
      "                      Date        Likes\n",
      "count                  500   500.000000\n",
      "mean   2021-09-07 12:00:00  5106.452000\n",
      "min    2021-01-01 00:00:00     6.000000\n",
      "25%    2021-05-05 18:00:00  2776.250000\n",
      "50%    2021-09-07 12:00:00  5094.500000\n",
      "75%    2022-01-10 06:00:00  7634.500000\n",
      "max    2022-05-15 00:00:00  9997.000000\n",
      "std                    NaN  2878.289146\n"
     ]
    }
   ],
   "source": [
    "print(\"\\nDataFrame Description:\")\n",
    "print(df.describe())"
   ]
  },
  {
   "cell_type": "code",
   "execution_count": 16,
   "id": "0f820c63-1839-4110-952f-7b3f48a59198",
   "metadata": {},
   "outputs": [
    {
     "name": "stdout",
     "output_type": "stream",
     "text": [
      "\n",
      "Category Value Counts:\n",
      "Category\n",
      "Family     98\n",
      "Music      73\n",
      "Culture    67\n",
      "Fashion    63\n",
      "Travel     53\n",
      "Fitness    51\n",
      "Food       48\n",
      "Health     47\n",
      "Name: count, dtype: int64\n"
     ]
    }
   ],
   "source": [
    "print(\"\\nCategory Value Counts:\")\n",
    "print(df['Category'].value_counts())\n"
   ]
  },
  {
   "cell_type": "code",
   "execution_count": 18,
   "id": "1bdee78c-2859-42a6-98fc-001b046c1844",
   "metadata": {},
   "outputs": [],
   "source": [
    "df.dropna(inplace=True)"
   ]
  },
  {
   "cell_type": "code",
   "execution_count": 20,
   "id": "a2667b36-d122-4890-8035-ce02e986c158",
   "metadata": {},
   "outputs": [],
   "source": [
    "df.drop_duplicates(inplace=True)"
   ]
  },
  {
   "cell_type": "code",
   "execution_count": 22,
   "id": "99c666fb-1ff2-4fdc-96af-9cf9a924585b",
   "metadata": {},
   "outputs": [],
   "source": [
    "df['Date'] = pd.to_datetime(df['Date'])\n"
   ]
  },
  {
   "cell_type": "code",
   "execution_count": 28,
   "id": "c32f35bc-90f1-4f83-894d-1c50a3afd4af",
   "metadata": {},
   "outputs": [],
   "source": [
    "df['Likes'] = df['Likes'].astype(int)"
   ]
  },
  {
   "cell_type": "code",
   "execution_count": 30,
   "id": "4581b997-f832-44fa-8858-db59478b8288",
   "metadata": {},
   "outputs": [
    {
     "name": "stdout",
     "output_type": "stream",
     "text": [
      "\n",
      "Histogram of Likes:\n"
     ]
    },
    {
     "data": {
      "image/png": "[encoded data removed]",
      "text/plain": [
       "<Figure size 640x480 with 1 Axes>"
      ]
     },
     "metadata": {},
     "output_type": "display_data"
    }
   ],
   "source": [
    "print(\"\\nHistogram of Likes:\")\n",
    "sns.histplot(df['Likes'], kde=False)\n",
    "plt.title('Distribution of Likes')\n",
    "plt.xlabel('Number of Likes')\n",
    "plt.ylabel('Frequency')\n",
    "plt.show()\n"
   ]
  },
  {
   "cell_type": "code",
   "execution_count": null,
   "id": "7009381f-8142-4c48-85eb-adc840504c5e",
   "metadata": {},
   "outputs": [],
   "source": []
  }
 ],
 "metadata": {
  "kernelspec": {
   "display_name": "Python 3 (ipykernel)",
   "language": "python",
   "name": "python3"
  },
  "language_info": {
   "codemirror_mode": {
    "name": "ipython",
    "version": 3
   },
   "file_extension": ".py",
   "mimetype": "text/x-python",
   "name": "python",
   "nbconvert_exporter": "python",
   "pygments_lexer": "ipython3",
   "version": "3.12.4"
  }
 },
 "nbformat": 4,
 "nbformat_minor": 5
}
